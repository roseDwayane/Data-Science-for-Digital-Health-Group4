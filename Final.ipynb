{
 "cells": [
  {
   "cell_type": "code",
   "execution_count": 1,
   "id": "2ab95ca0",
   "metadata": {},
   "outputs": [
    {
     "data": {
      "text/html": [
       "<div>\n",
       "<style scoped>\n",
       "    .dataframe tbody tr th:only-of-type {\n",
       "        vertical-align: middle;\n",
       "    }\n",
       "\n",
       "    .dataframe tbody tr th {\n",
       "        vertical-align: top;\n",
       "    }\n",
       "\n",
       "    .dataframe thead th {\n",
       "        text-align: right;\n",
       "    }\n",
       "</style>\n",
       "<table border=\"1\" class=\"dataframe\">\n",
       "  <thead>\n",
       "    <tr style=\"text-align: right;\">\n",
       "      <th></th>\n",
       "      <th>subject_id</th>\n",
       "      <th>hadm_id</th>\n",
       "      <th>stay_id</th>\n",
       "      <th>age</th>\n",
       "      <th>gender</th>\n",
       "      <th>resp_rate_mean</th>\n",
       "      <th>heart_rate_max</th>\n",
       "      <th>glucose_max</th>\n",
       "      <th>hemoglobin_min</th>\n",
       "      <th>hemoglobin_max</th>\n",
       "      <th>glucose_avg</th>\n",
       "      <th>vasopressin</th>\n",
       "      <th>urineoutput</th>\n",
       "      <th>label</th>\n",
       "    </tr>\n",
       "  </thead>\n",
       "  <tbody>\n",
       "    <tr>\n",
       "      <th>0</th>\n",
       "      <td>10015272</td>\n",
       "      <td>27993466</td>\n",
       "      <td>37267577</td>\n",
       "      <td>78</td>\n",
       "      <td>F</td>\n",
       "      <td>23.863636</td>\n",
       "      <td>145.0</td>\n",
       "      <td>174.0</td>\n",
       "      <td>9.3</td>\n",
       "      <td>9.4</td>\n",
       "      <td>135.5</td>\n",
       "      <td>0</td>\n",
       "      <td>400.0</td>\n",
       "      <td>0</td>\n",
       "    </tr>\n",
       "    <tr>\n",
       "      <th>1</th>\n",
       "      <td>10018928</td>\n",
       "      <td>22523751</td>\n",
       "      <td>35050109</td>\n",
       "      <td>31</td>\n",
       "      <td>F</td>\n",
       "      <td>18.703704</td>\n",
       "      <td>100.0</td>\n",
       "      <td>204.0</td>\n",
       "      <td>11.5</td>\n",
       "      <td>13.3</td>\n",
       "      <td>111.0</td>\n",
       "      <td>0</td>\n",
       "      <td>1330.0</td>\n",
       "      <td>0</td>\n",
       "    </tr>\n",
       "    <tr>\n",
       "      <th>2</th>\n",
       "      <td>10020852</td>\n",
       "      <td>23525237</td>\n",
       "      <td>35919245</td>\n",
       "      <td>31</td>\n",
       "      <td>F</td>\n",
       "      <td>17.961538</td>\n",
       "      <td>93.0</td>\n",
       "      <td>99.0</td>\n",
       "      <td>12.8</td>\n",
       "      <td>13.4</td>\n",
       "      <td>99.0</td>\n",
       "      <td>0</td>\n",
       "      <td>NaN</td>\n",
       "      <td>0</td>\n",
       "    </tr>\n",
       "    <tr>\n",
       "      <th>3</th>\n",
       "      <td>10023404</td>\n",
       "      <td>28217007</td>\n",
       "      <td>33958400</td>\n",
       "      <td>28</td>\n",
       "      <td>F</td>\n",
       "      <td>15.708333</td>\n",
       "      <td>88.0</td>\n",
       "      <td>NaN</td>\n",
       "      <td>NaN</td>\n",
       "      <td>NaN</td>\n",
       "      <td>NaN</td>\n",
       "      <td>0</td>\n",
       "      <td>NaN</td>\n",
       "      <td>0</td>\n",
       "    </tr>\n",
       "    <tr>\n",
       "      <th>4</th>\n",
       "      <td>10026255</td>\n",
       "      <td>22059910</td>\n",
       "      <td>31248398</td>\n",
       "      <td>67</td>\n",
       "      <td>M</td>\n",
       "      <td>24.400000</td>\n",
       "      <td>120.0</td>\n",
       "      <td>85.0</td>\n",
       "      <td>11.5</td>\n",
       "      <td>11.5</td>\n",
       "      <td>85.0</td>\n",
       "      <td>0</td>\n",
       "      <td>690.0</td>\n",
       "      <td>1</td>\n",
       "    </tr>\n",
       "  </tbody>\n",
       "</table>\n",
       "</div>"
      ],
      "text/plain": [
       "   subject_id   hadm_id   stay_id  age gender  resp_rate_mean  heart_rate_max  \\\n",
       "0    10015272  27993466  37267577   78      F       23.863636           145.0   \n",
       "1    10018928  22523751  35050109   31      F       18.703704           100.0   \n",
       "2    10020852  23525237  35919245   31      F       17.961538            93.0   \n",
       "3    10023404  28217007  33958400   28      F       15.708333            88.0   \n",
       "4    10026255  22059910  31248398   67      M       24.400000           120.0   \n",
       "\n",
       "   glucose_max  hemoglobin_min  hemoglobin_max  glucose_avg  vasopressin  \\\n",
       "0        174.0             9.3             9.4        135.5            0   \n",
       "1        204.0            11.5            13.3        111.0            0   \n",
       "2         99.0            12.8            13.4         99.0            0   \n",
       "3          NaN             NaN             NaN          NaN            0   \n",
       "4         85.0            11.5            11.5         85.0            0   \n",
       "\n",
       "   urineoutput  label  \n",
       "0        400.0      0  \n",
       "1       1330.0      0  \n",
       "2          NaN      0  \n",
       "3          NaN      0  \n",
       "4        690.0      1  "
      ]
     },
     "execution_count": 1,
     "metadata": {},
     "output_type": "execute_result"
    }
   ],
   "source": [
    "import pandas as pd\n",
    "import time\n",
    "import numpy as np\n",
    "from sklearn.model_selection import cross_val_predict, StratifiedKFold, train_test_split\n",
    "from sklearn.linear_model import LogisticRegression\n",
    "from sklearn.naive_bayes import GaussianNB\n",
    "from sklearn.metrics import f1_score, accuracy_score, precision_score, recall_score, confusion_matrix, roc_curve, roc_auc_score\n",
    "from sklearn.preprocessing import StandardScaler, OneHotEncoder\n",
    "from sklearn.compose import ColumnTransformer\n",
    "from sklearn.pipeline import Pipeline\n",
    "from sklearn.impute import SimpleImputer\n",
    "import matplotlib.pyplot as plt\n",
    "import seaborn as sns\n",
    "\n",
    "# Load the dataset\n",
    "file_path = './hw3.csv'\n",
    "data = pd.read_csv(file_path)\n",
    "\n",
    "# Display the first few rows of the dataset to understand its structure\n",
    "data.head()\n"
   ]
  },
  {
   "cell_type": "markdown",
   "id": "cca6843e",
   "metadata": {},
   "source": [
    "## Data Pre-processing"
   ]
  },
  {
   "cell_type": "code",
   "execution_count": 2,
   "id": "38e7a543",
   "metadata": {},
   "outputs": [
    {
     "name": "stdout",
     "output_type": "stream",
     "text": [
      "['age', 'resp_rate_mean', 'heart_rate_max', 'glucose_max', 'hemoglobin_min', 'hemoglobin_max', 'glucose_avg', 'vasopressin', 'urineoutput']\n"
     ]
    }
   ],
   "source": [
    "# Identifying numerical and categorical columns\n",
    "numerical_cols = data.select_dtypes(include=['int64', 'float64']).columns.tolist()\n",
    "categorical_cols = data.select_dtypes(include=['object']).columns.tolist()\n",
    "numerical_cols.remove('label')  # Remove the target variable\n",
    "numerical_cols.remove('subject_id')  # Remove the subject_id variable\n",
    "numerical_cols.remove('hadm_id')  # Remove the hadm_id variable\n",
    "numerical_cols.remove('stay_id')  # Remove the stay_id variable\n",
    "print(numerical_cols)\n",
    "\n",
    "# Preprocessing pipelines for numerical and categorical data\n",
    "numerical_transformer = Pipeline(steps=[\n",
    "    ('imputer', SimpleImputer(strategy='mean')),\n",
    "    ('scaler', StandardScaler())\n",
    "])\n",
    "categorical_transformer = Pipeline(steps=[\n",
    "    ('imputer', SimpleImputer(strategy='most_frequent')),\n",
    "    ('onehot', OneHotEncoder(handle_unknown='ignore'))\n",
    "])\n",
    "\n",
    "# Bundle preprocessing\n",
    "preprocessor = ColumnTransformer(\n",
    "    transformers=[\n",
    "        ('num', numerical_transformer, numerical_cols),\n",
    "        ('cat', categorical_transformer, categorical_cols)\n",
    "    ])\n",
    "\n",
    "# Splitting the dataset into features and target variable\n",
    "X = data.drop('label', axis=1)\n",
    "y = data['label']\n",
    "\n",
    "# Splitting the dataset into training and testing sets\n",
    "X_train, X_test, y_train, y_test = train_test_split(X, y, test_size=0.2, random_state=0)\n"
   ]
  },
  {
   "cell_type": "markdown",
   "id": "13fe4498",
   "metadata": {},
   "source": [
    "## Modeling"
   ]
  },
  {
   "cell_type": "code",
   "execution_count": 3,
   "id": "7bf29434",
   "metadata": {
    "scrolled": true
   },
   "outputs": [
    {
     "name": "stdout",
     "output_type": "stream",
     "text": [
      "Coefficients (β values) [[ 0.31549651  0.22611847  0.09128387  0.21426977 -0.03164193 -0.36185088\n",
      "   0.08381931  0.61231457 -0.36221473  0.00623211 -0.00630959]]\n"
     ]
    }
   ],
   "source": [
    "from sklearn.linear_model import LogisticRegression\n",
    "from sklearn.svm import LinearSVC\n",
    "from sklearn.tree import DecisionTreeClassifier\n",
    "from sklearn.ensemble import RandomForestClassifier\n",
    "from sklearn.neighbors import KNeighborsClassifier\n",
    "from sklearn.naive_bayes import GaussianNB\n",
    "import xgboost as xgb\n",
    "\n",
    "#LogisticRegression(max_iter=1000, random_state=0)\n",
    "# LogisticRegression(C=1, solver='lbfgs', max_iter=1000)\n",
    "#LinearSVC()\n",
    "#DecisionTreeClassifier()\n",
    "#RandomForestClassifier(n_estimators=100, random_state=1)\n",
    "#KNeighborsClassifier(n_neighbors=5)\n",
    "#GaussianNB()\n",
    "#xgb.XGBClassifier()\n",
    "\n",
    "model = Pipeline(steps=[('preprocessor', preprocessor),\n",
    "                        ('classifier', LogisticRegression(C=1, solver='lbfgs', max_iter=1000))])\n",
    "model.fit(X_train, y_train)\n",
    "cv = StratifiedKFold(n_splits=5)\n",
    "print(\"Coefficients (β values)\", model.named_steps['classifier'].coef_ )\n"
   ]
  },
  {
   "cell_type": "markdown",
   "id": "f3485290",
   "metadata": {},
   "source": [
    "## Threshold Value Selection"
   ]
  },
  {
   "cell_type": "code",
   "execution_count": 4,
   "id": "100af305",
   "metadata": {},
   "outputs": [
    {
     "name": "stdout",
     "output_type": "stream",
     "text": [
      "193\n",
      "0.1742638194053762\n"
     ]
    }
   ],
   "source": [
    "# Compute ROC curve\n",
    "#y_pred_proba = model.predict_proba(X_test)[:, 1]\n",
    "y_pred_proba = cross_val_predict(model, X, y, cv=cv, method='predict_proba')[:, 1]\n",
    "fpr, tpr, thresholds = roc_curve(y, y_pred_proba)\n",
    "\n",
    "# Compute the sensitivity (True Positive Rate) and specificity (1 - False Positive Rate)\n",
    "sensitivity = tpr  # True Positive Rate\n",
    "specificity = 1 - fpr  # 1 - False Positive Rate\n",
    "\n",
    "# Compute Youden's J statistic\n",
    "youden_j = sensitivity + specificity - 1\n",
    "\n",
    "# Find the optimal threshold\n",
    "optimal_idx = np.argmax(youden_j)\n",
    "optimal_threshold = thresholds[optimal_idx]\n",
    "print(optimal_idx)\n",
    "print(optimal_threshold)"
   ]
  },
  {
   "attachments": {},
   "cell_type": "markdown",
   "id": "459226ce",
   "metadata": {},
   "source": [
    "## Performance Evaluation Metrics (Accuracy, Precision, Recall, F1)"
   ]
  },
  {
   "cell_type": "code",
   "execution_count": 5,
   "id": "df46128f",
   "metadata": {},
   "outputs": [
    {
     "name": "stdout",
     "output_type": "stream",
     "text": [
      "roc_auc:  0.7848208804969676\n",
      "\n",
      "Accuracy, Precision, Recall, F1:\n",
      "0.783706, 0.391209, 0.640288, 0.485675\n",
      "\n"
     ]
    }
   ],
   "source": [
    "# Predict probabilities\n",
    "y_pred = (y_pred_proba >= 0.1742638194053762).astype(bool) # set threshold as 0.3\n",
    "#y_pred = model.predict(X_test)\n",
    "\n",
    "# Compute ROC curve\n",
    "roc_auc = roc_auc_score(y, y_pred_proba)\n",
    "print(\"roc_auc: \", roc_auc)\n",
    "accuracy = accuracy_score(y, y_pred)\n",
    "precision = precision_score(y, y_pred)\n",
    "recall = recall_score(y, y_pred)\n",
    "f1 = f1_score(y, y_pred)\n",
    "auc = roc_auc_score(y, y_pred)\n",
    "print('\\nAccuracy, Precision, Recall, F1:')\n",
    "print(f'{accuracy:4f}, {precision:4f}, {recall:4f}, {f1:4f}\\n')\n",
    "\n"
   ]
  },
  {
   "cell_type": "markdown",
   "id": "3d9bea93",
   "metadata": {},
   "source": [
    "## ROC Curve"
   ]
  },
  {
   "cell_type": "code",
   "execution_count": 6,
   "id": "cdf14767",
   "metadata": {},
   "outputs": [
    {
     "data": {
      "image/png": "[encoded data removed]",
      "text/plain": [
       "<Figure size 576x432 with 1 Axes>"
      ]
     },
     "metadata": {
      "needs_background": "light"
     },
     "output_type": "display_data"
    }
   ],
   "source": [
    "# Plotting the ROC curve\n",
    "plt.figure(figsize=(8, 6))\n",
    "plt.plot(fpr, tpr, color='blue', label=f'ROC curve (AUC = {roc_auc:.2f})')\n",
    "plt.plot([0, 1], [0, 1], color='darkgray', linestyle='--')\n",
    "plt.xlabel('False Positive Rate')\n",
    "plt.ylabel('True Positive Rate')\n",
    "plt.title('ROC Curve for Logistic Regression')\n",
    "plt.legend(loc='lower right')\n",
    "plt.grid(True)\n",
    "plt.show()"
   ]
  },
  {
   "cell_type": "code",
   "execution_count": 7,
   "id": "e324465f",
   "metadata": {},
   "outputs": [
    {
     "data": {
      "image/png": "[encoded data removed]",
      "text/plain": [
       "<Figure size 576x432 with 2 Axes>"
      ]
     },
     "metadata": {
      "needs_background": "light"
     },
     "output_type": "display_data"
    }
   ],
   "source": [
    "cm = confusion_matrix(y, y_pred)\n",
    "plt.figure(figsize=(8, 6))\n",
    "sns.heatmap(cm, annot=True, fmt=\"d\", cmap=\"Blues\")\n",
    "plt.title('Confusion Matrix')\n",
    "plt.ylabel('True Label')\n",
    "plt.xlabel('Predicted Label')\n",
    "plt.show()"
   ]
  },
  {
   "cell_type": "code",
   "execution_count": 8,
   "id": "f9d1ad08",
   "metadata": {},
   "outputs": [
    {
     "data": {
      "image/png": "[encoded data removed]",
      "text/plain": [
       "<Figure size 576x432 with 1 Axes>"
      ]
     },
     "metadata": {
      "needs_background": "light"
     },
     "output_type": "display_data"
    }
   ],
   "source": [
    "from sklearn.calibration import calibration_curve\n",
    "\n",
    "fraction_of_positives, mean_predicted_value = calibration_curve(y, y_pred_proba, n_bins=10)\n",
    "\n",
    "# Plotting the calibration curve\n",
    "plt.figure(figsize=(8, 6))\n",
    "plt.plot(mean_predicted_value, fraction_of_positives, \"s-\", label=\"LogisticRegression\")\n",
    "plt.plot([0, 1], [0, 1], \"--\", color=\"gray\", label=\"Perfectly calibrated\")\n",
    "plt.xlabel('Mean predicted probability')\n",
    "plt.ylabel('Fraction of positives')\n",
    "plt.title('Calibration plot (reliability curve)')\n",
    "plt.legend()\n",
    "plt.show()"
   ]
  },
  {
   "cell_type": "code",
   "execution_count": null,
   "id": "24c55e22",
   "metadata": {},
   "outputs": [],
   "source": []
  }
 ],
 "metadata": {
  "kernelspec": {
   "display_name": "Python 3 (ipykernel)",
   "language": "python",
   "name": "python3"
  },
  "language_info": {
   "codemirror_mode": {
    "name": "ipython",
    "version": 3
   },
   "file_extension": ".py",
   "mimetype": "text/x-python",
   "name": "python",
   "nbconvert_exporter": "python",
   "pygments_lexer": "ipython3",
   "version": "3.8.13"
  }
 },
 "nbformat": 4,
 "nbformat_minor": 5
}
